{
 "cells": [
  {
   "cell_type": "code",
   "execution_count": 1,
   "metadata": {},
   "outputs": [],
   "source": [
    "from lxml import html\n",
    "import requests\n",
    "\n",
    "if __name__ == \"__main__\":\n",
    "    from lxml import html\n",
    "    import requests\n",
    "    page = requests.get('https://www.lexico.com/en/definition/happy')\n",
    "    \n",
    "\n"
   ]
  },
  {
   "cell_type": "code",
   "execution_count": 79,
   "metadata": {},
   "outputs": [
    {
     "name": "stdout",
     "output_type": "stream",
     "text": [
      "1\n",
      "adjective\n"
     ]
    }
   ],
   "source": [
    "    \n",
    "    tree = html.fromstring(page.content)\n",
    "#     meaning_block = tree.xpath('//section[@class=\"gramb\"]/ul[@class=\"semb\"]/li/div[@class=\"trg\"]/p/span[@class=\"ind\"]')\n",
    "    pos_block_root = tree.xpath('//section[@class=\"gramb\"]')\n",
    "    print(len(pos_block_root))\n",
    "    pos = tree.xpath('//section[@class=\"gramb\"]/h3[@class=\"ps pos\"]/span[@class=\"pos\"]/text()')\n",
    "    print(pos[0])\n",
    "    meaning_block = tree.xpath('//section[@class=\"gramb\"]/ul[@class=\"semb\"]/li/div[@class=\"trg\"]')\n",
    "\n"
   ]
  },
  {
   "cell_type": "code",
   "execution_count": 76,
   "metadata": {},
   "outputs": [
    {
     "name": "stdout",
     "output_type": "stream",
     "text": [
      "==============================\n",
      "Feeling or showing pleasure or contentment.\n",
      "‘Melissa came in looking happy and excited’\n",
      "contented, content, cheerful, cheery, merry, joyful, jovial, jolly, joking, jocular, gleeful, carefree, untroubled, delighted, smiling, beaming, grinning, glowing, satisfied, gratified, buoyant, radiant, sunny, blithe, joyous, beatific, blessed\n",
      "==============================\n",
      "Fortunate and convenient.\n",
      "‘he had the happy knack of making people like him’\n",
      "fortunate, lucky, favourable, advantageous, opportune, timely, well timed, convenient, propitious, felicitous, auspicious, beneficial, helpful\n",
      "==============================\n",
      "Inclined to use a specified thing excessively or at random.\n",
      "‘they tended to be grenade-happy’\n"
     ]
    },
    {
     "ename": "IndexError",
     "evalue": "list index out of range",
     "output_type": "error",
     "traceback": [
      "\u001b[0;31m---------------------------------------------------------------------------\u001b[0m",
      "\u001b[0;31mIndexError\u001b[0m                                Traceback (most recent call last)",
      "\u001b[0;32m<ipython-input-76-80a318221660>\u001b[0m in \u001b[0;36m<module>\u001b[0;34m\u001b[0m\n\u001b[1;32m      6\u001b[0m     \u001b[0mprint\u001b[0m\u001b[0;34m(\u001b[0m\u001b[0mmean\u001b[0m\u001b[0;34m[\u001b[0m\u001b[0;36m0\u001b[0m\u001b[0;34m]\u001b[0m\u001b[0;34m)\u001b[0m\u001b[0;34m\u001b[0m\u001b[0m\n\u001b[1;32m      7\u001b[0m     \u001b[0mprint\u001b[0m\u001b[0;34m(\u001b[0m\u001b[0mexample\u001b[0m\u001b[0;34m[\u001b[0m\u001b[0;36m0\u001b[0m\u001b[0;34m]\u001b[0m\u001b[0;34m)\u001b[0m\u001b[0;34m\u001b[0m\u001b[0m\n\u001b[0;32m----> 8\u001b[0;31m     \u001b[0mprint\u001b[0m\u001b[0;34m(\u001b[0m\u001b[0msynonyms\u001b[0m\u001b[0;34m[\u001b[0m\u001b[0;36m0\u001b[0m\u001b[0;34m]\u001b[0m\u001b[0;34m.\u001b[0m\u001b[0mtext_content\u001b[0m\u001b[0;34m(\u001b[0m\u001b[0;34m)\u001b[0m\u001b[0;34m)\u001b[0m\u001b[0;34m\u001b[0m\u001b[0m\n\u001b[0m\u001b[1;32m      9\u001b[0m \u001b[0;31m#     print(m.text_content())\u001b[0m\u001b[0;34m\u001b[0m\u001b[0;34m\u001b[0m\u001b[0m\n",
      "\u001b[0;31mIndexError\u001b[0m: list index out of range"
     ]
    }
   ],
   "source": [
    "for m in meaning_block:\n",
    "    print(\"=\"*30)\n",
    "    mean = m.xpath('p/span[@class=\"ind\"]/text()')\n",
    "    example = m.xpath('div[@class=\"exg\"]/div[@class=\"ex\"]/em/text()')\n",
    "    synonyms = m.xpath('div[@class=\"synonyms\"]/div[@class=\"exg\"]/div')\n",
    "    print(mean[0])\n",
    "    print(example[0])\n",
    "    print(synonyms[0].text_content())\n",
    "#     print(m.text_content())\n"
   ]
  },
  {
   "cell_type": "code",
   "execution_count": 69,
   "metadata": {},
   "outputs": [
    {
     "name": "stdout",
     "output_type": "stream",
     "text": [
      "Middle English (in the sense ‘lucky’): from the noun hap+ -y.\n"
     ]
    }
   ],
   "source": [
    "origin = tree.xpath('//div[@class=\"senseInnerWrapper\"]/p')\n",
    "print(origin[0].text_content())"
   ]
  },
  {
   "cell_type": "code",
   "execution_count": null,
   "metadata": {},
   "outputs": [],
   "source": []
  },
  {
   "cell_type": "code",
   "execution_count": null,
   "metadata": {},
   "outputs": [],
   "source": []
  }
 ],
 "metadata": {
  "kernelspec": {
   "display_name": "Python 3",
   "language": "python",
   "name": "python3"
  },
  "language_info": {
   "codemirror_mode": {
    "name": "ipython",
    "version": 3
   },
   "file_extension": ".py",
   "mimetype": "text/x-python",
   "name": "python",
   "nbconvert_exporter": "python",
   "pygments_lexer": "ipython3",
   "version": "3.5.2"
  }
 },
 "nbformat": 4,
 "nbformat_minor": 2
}
