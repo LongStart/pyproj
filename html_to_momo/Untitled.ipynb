{
 "cells": [
  {
   "cell_type": "code",
   "execution_count": 8,
   "metadata": {},
   "outputs": [],
   "source": [
    "from lxml import html\n",
    "import requests\n",
    "\n",
    "if __name__ == \"__main__\":\n",
    "    from lxml import html\n",
    "    import requests\n",
    "    page = requests.get('https://www.lexico.com/en/definition/ripple')\n",
    "    \n",
    "\n"
   ]
  },
  {
   "cell_type": "code",
   "execution_count": 9,
   "metadata": {},
   "outputs": [
    {
     "name": "stdout",
     "output_type": "stream",
     "text": [
      "3\n",
      "noun\n"
     ]
    }
   ],
   "source": [
    "    \n",
    "    tree = html.fromstring(page.content)\n",
    "#     meaning_block = tree.xpath('//section[@class=\"gramb\"]/ul[@class=\"semb\"]/li/div[@class=\"trg\"]/p/span[@class=\"ind\"]')\n",
    "    pos_block_root = tree.xpath('//section[@class=\"gramb\"]')[0]\n",
    "    print(len(pos_block_root))\n",
    "    pos = pos_block_root.xpath('h3[@class=\"ps pos\"]/span[@class=\"pos\"]/text()')\n",
    "    print(pos[0])\n",
    "    meaning_block = tree.xpath('//section[@class=\"gramb\"]/ul[@class=\"semb\"]/li/div[@class=\"trg\"]')\n",
    "\n"
   ]
  },
  {
   "cell_type": "code",
   "execution_count": 10,
   "metadata": {},
   "outputs": [
    {
     "name": "stdout",
     "output_type": "stream",
     "text": [
      "==============================\n",
      "A small wave or series of waves on the surface of water, especially as caused by a slight breeze or an object dropping into it.\n",
      "‘he dived into the pool leaving barely a ripple’\n",
      "wavelet, wave, undulation, ripplet, ridge, crease, wrinkle, ruffle, pucker\n",
      "==============================\n",
      "A type of ice cream with wavy lines of coloured flavoured syrup running through it.\n",
      "‘a family block of raspberry ripple’\n"
     ]
    },
    {
     "ename": "IndexError",
     "evalue": "list index out of range",
     "output_type": "error",
     "traceback": [
      "\u001b[0;31m---------------------------------------------------------------------------\u001b[0m",
      "\u001b[0;31mIndexError\u001b[0m                                Traceback (most recent call last)",
      "\u001b[0;32m<ipython-input-10-80a318221660>\u001b[0m in \u001b[0;36m<module>\u001b[0;34m\u001b[0m\n\u001b[1;32m      6\u001b[0m     \u001b[0mprint\u001b[0m\u001b[0;34m(\u001b[0m\u001b[0mmean\u001b[0m\u001b[0;34m[\u001b[0m\u001b[0;36m0\u001b[0m\u001b[0;34m]\u001b[0m\u001b[0;34m)\u001b[0m\u001b[0;34m\u001b[0m\u001b[0;34m\u001b[0m\u001b[0m\n\u001b[1;32m      7\u001b[0m     \u001b[0mprint\u001b[0m\u001b[0;34m(\u001b[0m\u001b[0mexample\u001b[0m\u001b[0;34m[\u001b[0m\u001b[0;36m0\u001b[0m\u001b[0;34m]\u001b[0m\u001b[0;34m)\u001b[0m\u001b[0;34m\u001b[0m\u001b[0;34m\u001b[0m\u001b[0m\n\u001b[0;32m----> 8\u001b[0;31m     \u001b[0mprint\u001b[0m\u001b[0;34m(\u001b[0m\u001b[0msynonyms\u001b[0m\u001b[0;34m[\u001b[0m\u001b[0;36m0\u001b[0m\u001b[0;34m]\u001b[0m\u001b[0;34m.\u001b[0m\u001b[0mtext_content\u001b[0m\u001b[0;34m(\u001b[0m\u001b[0;34m)\u001b[0m\u001b[0;34m)\u001b[0m\u001b[0;34m\u001b[0m\u001b[0;34m\u001b[0m\u001b[0m\n\u001b[0m\u001b[1;32m      9\u001b[0m \u001b[0;31m#     print(m.text_content())\u001b[0m\u001b[0;34m\u001b[0m\u001b[0;34m\u001b[0m\u001b[0;34m\u001b[0m\u001b[0m\n",
      "\u001b[0;31mIndexError\u001b[0m: list index out of range"
     ]
    }
   ],
   "source": [
    "for m in meaning_block:\n",
    "    print(\"=\"*30)\n",
    "    mean = m.xpath('p/span[@class=\"ind\"]/text()')\n",
    "    example = m.xpath('div[@class=\"exg\"]/div[@class=\"ex\"]/em/text()')\n",
    "    synonyms = m.xpath('div[@class=\"synonyms\"]/div[@class=\"exg\"]/div')\n",
    "    print(mean[0])\n",
    "    print(example[0])\n",
    "    print(synonyms[0].text_content())\n",
    "#     print(m.text_content())\n"
   ]
  },
  {
   "cell_type": "code",
   "execution_count": 11,
   "metadata": {},
   "outputs": [
    {
     "name": "stdout",
     "output_type": "stream",
     "text": [
      "Late 17th century (as a verb): of unknown origin.\n"
     ]
    }
   ],
   "source": [
    "origin = tree.xpath('//div[@class=\"senseInnerWrapper\"]/p')\n",
    "print(origin[0].text_content())"
   ]
  },
  {
   "cell_type": "code",
   "execution_count": null,
   "metadata": {},
   "outputs": [],
   "source": []
  },
  {
   "cell_type": "code",
   "execution_count": null,
   "metadata": {},
   "outputs": [],
   "source": []
  }
 ],
 "metadata": {
  "kernelspec": {
   "display_name": "Python 3",
   "language": "python",
   "name": "python3"
  },
  "language_info": {
   "codemirror_mode": {
    "name": "ipython",
    "version": 3
   },
   "file_extension": ".py",
   "mimetype": "text/x-python",
   "name": "python",
   "nbconvert_exporter": "python",
   "pygments_lexer": "ipython3",
   "version": "3.6.7"
  }
 },
 "nbformat": 4,
 "nbformat_minor": 2
}
