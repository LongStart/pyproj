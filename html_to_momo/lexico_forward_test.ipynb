{
 "cells": [
  {
   "cell_type": "code",
   "execution_count": 2,
   "metadata": {},
   "outputs": [],
   "source": [
    "from lxml import html\n",
    "import requests\n",
    "\n",
    "if __name__ == \"__main__\":\n",
    "    from lxml import html\n",
    "    import requests\n",
    "    page = requests.get('https://www.lexico.com/en/definition/capriciousness')\n",
    "    \n",
    "\n"
   ]
  },
  {
   "cell_type": "code",
   "execution_count": 4,
   "metadata": {},
   "outputs": [
    {
     "name": "stdout",
     "output_type": "stream",
     "text": [
      "3\n",
      "noun\n",
      "capricious\n"
     ]
    }
   ],
   "source": [
    "    \n",
    "    tree = html.fromstring(page.content)\n",
    "#     meaning_block = tree.xpath('//section[@class=\"gramb\"]/ul[@class=\"semb\"]/li/div[@class=\"trg\"]/p/span[@class=\"ind\"]')\n",
    "    pos_block_root = tree.xpath('//section[@class=\"gramb\"]')[0]\n",
    "    print(len(pos_block_root))\n",
    "    pos = pos_block_root.xpath('h3[@class=\"ps pos\"]/span[@class=\"pos\"]/text()')\n",
    "    print(pos[0])\n",
    "    derive_of = tree.xpath('//div[@class=\"empty_sense\"]/p[@class=\"derivative_of\"]/a')\n",
    "\n",
    "    print(derive_of[0].text_content())\n"
   ]
  },
  {
   "cell_type": "code",
   "execution_count": null,
   "metadata": {},
   "outputs": [],
   "source": [
    "\n"
   ]
  },
  {
   "cell_type": "code",
   "execution_count": null,
   "metadata": {},
   "outputs": [],
   "source": []
  },
  {
   "cell_type": "code",
   "execution_count": null,
   "metadata": {},
   "outputs": [],
   "source": []
  },
  {
   "cell_type": "code",
   "execution_count": null,
   "metadata": {},
   "outputs": [],
   "source": []
  }
 ],
 "metadata": {
  "kernelspec": {
   "display_name": "Python 3",
   "language": "python",
   "name": "python3"
  },
  "language_info": {
   "codemirror_mode": {
    "name": "ipython",
    "version": 3
   },
   "file_extension": ".py",
   "mimetype": "text/x-python",
   "name": "python",
   "nbconvert_exporter": "python",
   "pygments_lexer": "ipython3",
   "version": "3.6.7"
  }
 },
 "nbformat": 4,
 "nbformat_minor": 2
}
